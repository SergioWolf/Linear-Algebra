{
 "cells": [
  {
   "cell_type": "markdown",
   "metadata": {},
   "source": [
    "### Линейное пространство. Основные понятия. Часть 1"
   ]
  },
  {
   "cell_type": "markdown",
   "metadata": {},
   "source": [
    "##### 1. Исследовать на линейную зависимость:   \n",
    "$$f_{1}(x)=e^{x}, f_{2}(x)=1, f_{3}(x)=x+1, f_{4}(x)=x-e^{x}$$"
   ]
  },
  {
   "cell_type": "markdown",
   "metadata": {},
   "source": [
    "Функции являются линейно-зависимыми, так как мы можем выразить одну функию, например $f_4(x)$, через другие:\n",
    "\n",
    "$$f_4(x) = f_3(x) - f_2(x) - f_1(x) = x+1 - 1 - e^x = x - e^x.$$"
   ]
  },
  {
   "cell_type": "markdown",
   "metadata": {},
   "source": [
    "##### 2. Исследовать на линейную зависимость:\n",
    "$$f_{1}(x)=2, f_{2}(x)=x, f_{3}(x)=x^{2}, f_{4}(x)=(x+1)^{2}.$$"
   ]
  },
  {
   "cell_type": "markdown",
   "metadata": {},
   "source": [
    "Функции являются линейно-зависимыми, так как мы можем выразить одну функию, например $f_4(x)$, через другие:\n",
    "$$f_4(x) = (x+1)^2 = x^2 + 2x + 1 = f_3(x) + 2f_2(x) + \\frac{f_1(x)}{2}.$$"
   ]
  },
  {
   "cell_type": "markdown",
   "metadata": {},
   "source": [
    "##### 3. Найти координаты вектора $x = (2, 3, 5)\\in \\mathbb{R}^{3}$ в базисе $b_{1}=(0, 0, 10)$, $b_{2}=(2, 0, 0)$, $b_{3}=(0, 1, 0)$."
   ]
  },
  {
   "cell_type": "markdown",
   "metadata": {},
   "source": [
    "Стандартный базис линейного пространства $\\mathbb{R}^3$ образуют векторы $e_1=(1,0,0), e_2=(0,1,0), e_3=(0,0,1)$. Выполним отображение стандартного базиса на целевой:\n",
    "$$e_1=\\frac{b_2}{2}, e_2=b_3, e_3=\\frac{b_1}{10},$$\n",
    "тогда:\n",
    "$$x = (2,3,5)_e = 2e_1+3e_2+5e_3 = 2\\frac{b_2}{2}+3b_3+5\\frac{b_1}{10} = \\frac{1}{2}b_1+b_2+3b_3 = (\\frac{1}{2},1,3)_b.$$"
   ]
  },
  {
   "cell_type": "markdown",
   "metadata": {},
   "source": [
    "##### 4. Найти координаты вектора $3x^{2}-2x+2\\in\\mathbb{R}^{3}[x]$:\n",
    "\n",
    "   а) в базисе $1$, $x$, $x^{2}$;\n",
    "\n",
    "   б) в базисе $x^{2}$, $x-1$, $1$."
   ]
  },
  {
   "cell_type": "markdown",
   "metadata": {},
   "source": [
    "a) $3x^2-2x+2 = 3e_3-2e_2+2e_1 = (3,-2,2)$;\n",
    "\n",
    "б) $3x^2-2x+2 = 3e_1-2e_2+0e_3 = (3,-2,0)$.\n"
   ]
  },
  {
   "cell_type": "markdown",
   "metadata": {},
   "source": [
    "##### 5. Установить, является ли линейным подпространством: \n",
    "а) совокупность всех векторов трехмерного пространства, у которых по крайней мере одна из первых двух координат равна нулю;\n",
    "\n",
    "б) все векторы, являющиеся линейными комбинациями данных векторов  {𝑢1,𝑢2,...,𝑢𝑛} ."
   ]
  },
  {
   "cell_type": "code",
   "execution_count": null,
   "metadata": {},
   "outputs": [],
   "source": []
  },
  {
   "cell_type": "markdown",
   "metadata": {},
   "source": [
    "### Линейное пространство. Основные понятия. Часть 2"
   ]
  },
  {
   "cell_type": "markdown",
   "metadata": {},
   "source": [
    "##### 1. Найти скалярное произведение векторов  𝑥,𝑦∈ℝ :\n",
    "а)  𝑥=(0,−3,6), 𝑦=(−4,7,9); \n",
    "\n",
    "б)  𝑥=(7,−4,0,1), 𝑦=(−3,1,11,2)."
   ]
  },
  {
   "cell_type": "markdown",
   "metadata": {},
   "source": [
    "a) $(x, y) = 0\\cdot(-4) + (-3)\\cdot7 + 6\\cdot9 = 33$\n",
    "\n",
    "б) $(x, y) = 7\\cdot(-3) + (-4)\\cdot1 + 0\\cdot11 + 1\\cdot2 = -23$"
   ]
  },
  {
   "cell_type": "code",
   "execution_count": 3,
   "metadata": {},
   "outputs": [
    {
     "name": "stdout",
     "output_type": "stream",
     "text": [
      "a) (x, y) = 33\n",
      "б) (x, y) = -23\n"
     ]
    }
   ],
   "source": [
    "import numpy as np\n",
    "\n",
    "x1 = np.array([0, -3, 6])\n",
    "y1 = np.array([-4,7,9])\n",
    "print(f'a) (x, y) = {np.dot(x1, y1)}')\n",
    "\n",
    "x2 = np.array([7, -4, 0, 1])\n",
    "y2 = np.array([-3, 1, 11, 2])\n",
    "print(f'б) (x, y) = {np.dot(x2, y2)}')"
   ]
  },
  {
   "cell_type": "markdown",
   "metadata": {},
   "source": [
    "##### 2.  Найти нормы векторов  (4,2,4)  и  (12,3,4)  и угол между ними"
   ]
  },
  {
   "cell_type": "markdown",
   "metadata": {},
   "source": [
    "$$cos\\varphi = \\frac{4\\cdot12+2\\cdot3+4\\cdot4}{\\sqrt{4^{2}+2^{2}+4^{2}}\\sqrt{12^{2}+3^{2}+4^{2}}}=\\frac{70}{6\\cdot13}\\approx 0.897$$"
   ]
  },
  {
   "cell_type": "markdown",
   "metadata": {},
   "source": [
    "Манхэттенская норма: 10 и 19\n",
    "\n",
    "Евклидова норма: 6 и 13"
   ]
  },
  {
   "cell_type": "code",
   "execution_count": 4,
   "metadata": {},
   "outputs": [
    {
     "name": "stdout",
     "output_type": "stream",
     "text": [
      "Манхэттенская норма вектора a = 10.0\n",
      "Манхэттенская норма вектора b = 19.0\n",
      "Евклидова норма вектора a = 6.0\n",
      "Евклидова норма вектора b = 13.0\n",
      "cos(phi) = 0.897\n",
      "Угол между векторами a и b = 0.46rad = 26.18°\n"
     ]
    }
   ],
   "source": [
    "from numpy.linalg import norm\n",
    "\n",
    "a = [4,2,4]\n",
    "b = [12,3,4]\n",
    "\n",
    "cos_phi = np.dot(a,b) / norm(a) / norm(b)\n",
    "phi = np.arccos(cos_phi)\n",
    "\n",
    "print(f'Манхэттенская норма вектора a = {norm(a, ord = 1)}')\n",
    "print(f'Манхэттенская норма вектора b = {norm(b, ord = 1)}')\n",
    "print(f'Евклидова норма вектора a = {norm(a, ord = 2)}')\n",
    "print(f'Евклидова норма вектора b = {norm(b, ord = 2)}')\n",
    "print(f'cos(phi) = {cos_phi:.3f}')\n",
    "print(f'Угол между векторами a и b = {phi:.2f}rad = {np.degrees(phi):.2f}°')"
   ]
  },
  {
   "cell_type": "markdown",
   "metadata": {},
   "source": [
    "##### 3. Будет ли линейное пространство евклидовым, если за скалярное произведение принять: а) произведение длин векторов; б) утроенное обычное скалярное произведение векторов?"
   ]
  },
  {
   "cell_type": "markdown",
   "metadata": {},
   "source": [
    "a) нет\n",
    "\n",
    "Проверим, удовлетворяет ли данное скалярное произведение аксиомам евклидова пространства:\n",
    "\n",
    "$(x,y)=(y,x)  :  |x|\\cdot|y|=|y|\\cdot|x|$ – удовлетворяет\n",
    "\n",
    "$(\\lambda x,y)=\\lambda(x,y)  :  |\\lambda x|\\cdot|y| = \\sqrt{\\sum_0^i(\\lambda x_i)^2\\cdot\\sum_0^iy^2} = \\sqrt{\\lambda^2\\sum_0^ix_i^2\\cdot\\sum_0^iy_i^2} = \\lambda\\sqrt{\\sum_0^ix_i^2\\cdot\\sum_0^iy_i^2}$ – удовлетворяет\n",
    "\n",
    "$(x_1+x_2,y)=(x_1,y)+(x_2,y)  :  $$\\sqrt{\\sum_0^i(x_{1i} + x_{2i})^2}\\sqrt{\\sum_0^iy_i^2}$ - не удовлетворяет\n",
    "\n",
    "$(x,x)\\geq0, (x,x)=0\\Leftrightarrow x=0: \\sqrt{\\sum_0^i2x_i^2}$ – удовлетворяет"
   ]
  },
  {
   "cell_type": "markdown",
   "metadata": {},
   "source": [
    "б) да\n",
    "\n",
    "Проверим, удовлетворяет ли данное скалярное произведение аксиомам евклидова пространства:\n",
    "\n",
    "$(x,y)=(y,x): |x|\\cdot|y|\\cdot3\\cdot\\cos\\alpha=|y|\\cdot|x|\\cdot3\\cdot\\cos\\alpha$ – удовлетворяет\n",
    "\n",
    "$(\\lambda x,y)=\\lambda(x,y): |\\lambda x|\\cdot|y|\\cdot3\\cdot\\cos\\alpha = \\sqrt{\\sum_0^i(\\lambda x_i)^2\\cdot\\sum_0^iy^2}\\cdot3\\cdot\\cos\\alpha = \\sqrt{\\lambda^2\\sum_0^ix_i^2\\cdot\\sum_0^iy_i^2}\\cdot3\\cdot\\cos\\alpha = \\lambda\\sqrt{\\sum_0^ix_i^2\\cdot\\sum_0^iy_i^2}\\cdot3\\cdot\\cos\\alpha = \\lambda|x|\\cdot|y|\\cdot3\\cdot\\cos\\alpha$  – удовлетворяет\n",
    "\n",
    "$(x_1+x_2,y)=(x_1,y)+(x_2,y)$ – ???\n",
    "\n",
    "$(x,x)\\geq0, (x,x)=0\\Leftrightarrow x=0: 3\\sqrt{\\sum_0^i2x_i^2}$ – удовлетворяет"
   ]
  },
  {
   "cell_type": "markdown",
   "metadata": {},
   "source": [
    "##### 4. Какие из нижеперечисленных векторов образуют ортонормированный базис в линейном пространстве $\\mathbb{R}^{3}$:<br>\n",
    "а) $(1,0,0),(0,0,1);$ <br>\n",
    "б) $(1/\\sqrt{2},-1/\\sqrt{2},0),(1/\\sqrt{2},1/\\sqrt{2},0), (0,0,1);$<br>\n",
    "в) $(1/2, -1/2, 0), (0, 1/2, 1/2), (0,0,1);$<br>\n",
    "г) $(1,0,0),(0,1,0),(0,0,1)?$ "
   ]
  },
  {
   "cell_type": "markdown",
   "metadata": {},
   "source": [
    "a) нет, так как нет базиса для второй координаты"
   ]
  },
  {
   "cell_type": "markdown",
   "metadata": {},
   "source": [
    "б) да"
   ]
  },
  {
   "cell_type": "code",
   "execution_count": 5,
   "metadata": {},
   "outputs": [],
   "source": [
    "def angle(a, b):\n",
    "    return np.degrees(np.arccos(np.dot(a,b) / norm(a) / norm(b)))\n"
   ]
  },
  {
   "cell_type": "code",
   "execution_count": 6,
   "metadata": {},
   "outputs": [
    {
     "name": "stdout",
     "output_type": "stream",
     "text": [
      "0.9999999999999999\n",
      "0.9999999999999999\n",
      "1.0\n",
      "90.0\n",
      "90.0\n",
      "90.0\n"
     ]
    }
   ],
   "source": [
    "x = [1/np.sqrt(2), -1/np.sqrt(2), 0]\n",
    "y = [1/np.sqrt(2), 1/np.sqrt(2), 0]\n",
    "z = [0, 0, 1]\n",
    "print(norm(x))\n",
    "print(norm(y))\n",
    "print(norm(z))\n",
    "print(angle(x, y))\n",
    "print(angle(x, z))\n",
    "print(angle(y, z))"
   ]
  },
  {
   "cell_type": "markdown",
   "metadata": {},
   "source": [
    "в) нет"
   ]
  },
  {
   "cell_type": "code",
   "execution_count": 7,
   "metadata": {},
   "outputs": [
    {
     "name": "stdout",
     "output_type": "stream",
     "text": [
      "0.7071067811865476\n",
      "0.7071067811865476\n",
      "1.0\n",
      "120.00000000000001\n",
      "90.0\n",
      "45.00000000000001\n"
     ]
    }
   ],
   "source": [
    "x = [1/2, -1/2, 0]\n",
    "y = [0, 1/2, 1/2]\n",
    "z = [0, 0, 1]\n",
    "print(norm(x))\n",
    "print(norm(y))\n",
    "print(norm(z))\n",
    "print(angle(x, y))\n",
    "print(angle(x, z))\n",
    "print(angle(y, z))"
   ]
  },
  {
   "cell_type": "markdown",
   "metadata": {},
   "source": [
    "г) да"
   ]
  },
  {
   "cell_type": "code",
   "execution_count": 8,
   "metadata": {},
   "outputs": [
    {
     "name": "stdout",
     "output_type": "stream",
     "text": [
      "1.0\n",
      "1.0\n",
      "1.0\n",
      "90.0\n",
      "90.0\n",
      "90.0\n"
     ]
    }
   ],
   "source": [
    "x = [1, 0, 0]\n",
    "y = [0, 1, 0]\n",
    "z = [0, 0, 1]\n",
    "print(norm(x))\n",
    "print(norm(y))\n",
    "print(norm(z))\n",
    "print(angle(x, y))\n",
    "print(angle(x, z))\n",
    "print(angle(y, z))"
   ]
  }
 ],
 "metadata": {
  "kernelspec": {
   "display_name": "Python 3",
   "language": "python",
   "name": "python3"
  },
  "language_info": {
   "codemirror_mode": {
    "name": "ipython",
    "version": 3
   },
   "file_extension": ".py",
   "mimetype": "text/x-python",
   "name": "python",
   "nbconvert_exporter": "python",
   "pygments_lexer": "ipython3",
   "version": "3.7.4"
  }
 },
 "nbformat": 4,
 "nbformat_minor": 2
}
