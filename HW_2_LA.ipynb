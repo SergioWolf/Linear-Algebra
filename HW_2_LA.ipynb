{
 "cells": [
  {
   "cell_type": "markdown",
   "metadata": {},
   "source": [
    "### Матрицы и матричные операции. Часть 1"
   ]
  },
  {
   "cell_type": "markdown",
   "metadata": {},
   "source": [
    "##### 1. Установить, какие произведения матриц  𝐴𝐵  и  𝐵𝐴  определены, и найти размерности полученных матриц:\n",
    "\n",
    "а)  𝐴  — матрица  4×2 ,  𝐵  — матрица  4×2 ;\n",
    "\n",
    "б)  𝐴  — матрица  2×5 ,  𝐵  — матрица  5×3 ;\n",
    "\n",
    "в)  𝐴  — матрица  8×3 ,  𝐵  — матрица  3×8 ;\n",
    "\n",
    "г)  𝐴  — квадратная матрица  4×4 ,  𝐵  — квадратная матрица  4×4 ."
   ]
  },
  {
   "cell_type": "code",
   "execution_count": 1,
   "metadata": {},
   "outputs": [],
   "source": [
    "import numpy as np"
   ]
  },
  {
   "cell_type": "markdown",
   "metadata": {},
   "source": [
    "а) $AB$ – нельзя умножать, $BA$ – нельзя умножать\n",
    "\n",
    "б) $AB$ – $2\\times3$, $BA$ – нельзя умножать\n",
    "\n",
    "в) $AB$ – $8\\times8$, $BA$ – $3\\times3$\n",
    "\n",
    "г) $AB$ – $4\\times4$, $BA$ – $4\\times4$"
   ]
  },
  {
   "cell_type": "code",
   "execution_count": 3,
   "metadata": {},
   "outputs": [
    {
     "name": "stdout",
     "output_type": "stream",
     "text": [
      "б1) AB = (2, 3)\n",
      "в1) AB = (8, 8)\n",
      "в2) BA = (3, 3)\n",
      "г) AB = BA = (4, 4)\n"
     ]
    }
   ],
   "source": [
    "print('б1) AB =', np.dot(np.ones((2,5)), np.ones((5,3))).shape)\n",
    "print('в1) AB =', np.dot(np.ones((8,3)), np.ones((3,8))).shape)\n",
    "print('в2) BA =', np.dot(np.ones((3,8)), np.ones((8,3))).shape)\n",
    "print('г) AB = BA =', np.dot(np.ones((4,4)), np.ones((4,4))).shape)"
   ]
  },
  {
   "cell_type": "markdown",
   "metadata": {},
   "source": [
    "##### 2.  Найти сумму и произведение матриц $A=\\begin{pmatrix}\n",
    "1 & -2\\\\ \n",
    "3 & 0\n",
    "\\end{pmatrix}$ и $B=\\begin{pmatrix}\n",
    "4 & -1\\\\ \n",
    "0 & 5\n",
    "\\end{pmatrix}.$"
   ]
  },
  {
   "cell_type": "markdown",
   "metadata": {},
   "source": [
    "$$A + B = B + A = \\begin{pmatrix}\n",
    "1 & -2 \\\\ \n",
    "3 & 0 \n",
    "\\end{pmatrix} + \\begin{pmatrix}\n",
    "4 & -1 \\\\ \n",
    "0 & 5 \n",
    "\\end{pmatrix} = \\begin{pmatrix}\n",
    "5 & -3 \\\\ \n",
    "3 & 5 \n",
    "\\end{pmatrix}\n",
    "$$$$AB = \\begin{pmatrix}\n",
    "1 & -2 \\\\ \n",
    "3 & 0 \n",
    "\\end{pmatrix} \\cdot \\begin{pmatrix}\n",
    "4 & -1 \\\\ \n",
    "0 & 5 \n",
    "\\end{pmatrix} = \\begin{pmatrix}\n",
    "1\\cdot4-2\\cdot0 & 1\\cdot(-1)-2\\cdot5 \\\\ \n",
    "3\\cdot4+0\\cdot0 & 3\\cdot(-1)+0\\cdot5 \n",
    "\\end{pmatrix} = \\begin{pmatrix}\n",
    "4 & -11 \\\\ \n",
    "12 & -3 \n",
    "\\end{pmatrix}\n",
    "$$$$BA = \\begin{pmatrix}\n",
    "4 & -1 \\\\ \n",
    "0 & 5 \n",
    "\\end{pmatrix} \\cdot \\begin{pmatrix}\n",
    "1 & -2 \\\\ \n",
    "3 & 0 \n",
    "\\end{pmatrix} = \\begin{pmatrix}\n",
    "4\\cdot1-1\\cdot3 & 4\\cdot(-2)-1\\cdot0 \\\\ \n",
    "0\\cdot1+5\\cdot3 & 0\\cdot(-2)+5\\cdot0 \n",
    "\\end{pmatrix} = \\begin{pmatrix}\n",
    "1 & -8 \\\\ \n",
    "15 & 0 \n",
    "\\end{pmatrix}$$"
   ]
  },
  {
   "cell_type": "code",
   "execution_count": 4,
   "metadata": {},
   "outputs": [
    {
     "name": "stdout",
     "output_type": "stream",
     "text": [
      "A + B = B + A =\n",
      " [[ 5 -3]\n",
      " [ 3  5]]\n",
      "A x B =\n",
      " [[  4 -11]\n",
      " [ 12  -3]]\n",
      "B x A =\n",
      " [[ 1 -8]\n",
      " [15  0]]\n"
     ]
    }
   ],
   "source": [
    "A = np.matrix([[1, -2], [3, 0]])\n",
    "B = np.matrix([[4, -1], [0, 5]])\n",
    "\n",
    "print('A + B = B + A =\\n', A + B)\n",
    "print('A x B =\\n', np.dot(A, B))\n",
    "print('B x A =\\n', np.dot(B, A))"
   ]
  },
  {
   "cell_type": "markdown",
   "metadata": {},
   "source": [
    "##### 3. Из закономерностей сложения и умножения матриц на число можно сделать вывод, что матрицы одного размера образуют линейное пространство. Вычислить линейную комбинацию $3A-2B+4C$ для матриц $A=\\begin{pmatrix}\n",
    "1 & 7\\\\ \n",
    "3 & -6\n",
    "\\end{pmatrix}$, $B=\\begin{pmatrix}\n",
    "0 & 5\\\\ \n",
    "2 & -1\n",
    "\\end{pmatrix}$, $C=\\begin{pmatrix}\n",
    "2 & -4\\\\ \n",
    "1 & 1\n",
    "\\end{pmatrix}.$"
   ]
  },
  {
   "cell_type": "markdown",
   "metadata": {},
   "source": [
    "$$3A - 2B + 4C = 3\\begin{pmatrix}\n",
    "1 & 7 \\\\ \n",
    "3 & -6 \n",
    "\\end{pmatrix} - 2\\begin{pmatrix}\n",
    "0 & 5 \\\\ \n",
    "2 & -1 \n",
    "\\end{pmatrix} + 4\\begin{pmatrix}\n",
    "2 & -4 \\\\ \n",
    "1 & 1 \n",
    "\\end{pmatrix} = \\begin{pmatrix}\n",
    "3 & 21 \\\\ \n",
    "9 & -18 \n",
    "\\end{pmatrix} + \\begin{pmatrix}\n",
    "0 & -10 \\\\ \n",
    "-4 & 2 \n",
    "\\end{pmatrix} + \\begin{pmatrix}\n",
    "8 & -16 \\\\ \n",
    "4 & 4 \n",
    "\\end{pmatrix} = \\begin{pmatrix}\n",
    "3+0+8 & 21-10-16 \\\\ \n",
    "9-4+4 & -18+2+4 \n",
    "\\end{pmatrix} = \\begin{pmatrix}\n",
    "11 & -5 \\\\ \n",
    "9 & -12 \n",
    "\\end{pmatrix}$$"
   ]
  },
  {
   "cell_type": "code",
   "execution_count": 7,
   "metadata": {},
   "outputs": [
    {
     "name": "stdout",
     "output_type": "stream",
     "text": [
      "3A - 2B + 4C =\n",
      " [[ 11  -5]\n",
      " [  9 -12]]\n"
     ]
    }
   ],
   "source": [
    "A = np.matrix([[1, 7], [3, -6]])\n",
    "B = np.matrix([[0, 5], [2, -1]])\n",
    "C = np.matrix([[2, -4], [1, 1]])\n",
    "\n",
    "print('3A - 2B + 4C =\\n', 3*A - 2*B + 4*C)"
   ]
  },
  {
   "cell_type": "markdown",
   "metadata": {},
   "source": [
    "##### 4. Дана матрица $A=\\begin{pmatrix}\n",
    "4 & 1\\\\ \n",
    "5 & -2\\\\ \n",
    "2 & 3\n",
    "\\end{pmatrix}$. Вычислить $AA^{T}$ и $A^{T}A$."
   ]
  },
  {
   "cell_type": "markdown",
   "metadata": {},
   "source": [
    "$$A^T = \\begin{pmatrix}\n",
    "4 & 5 & 2 \\\\ \n",
    "1 & -2 & 3\\end{pmatrix}\n",
    "$$$$AA^T = \\begin{pmatrix}\n",
    "4 & 1 \\\\ \n",
    "5 & -2 \\\\\n",
    "2 & 3 \n",
    "\\end{pmatrix} \\cdot \\begin{pmatrix}\n",
    "4 & 5 & 2 \\\\ \n",
    "1 & -2 & 3\n",
    "\\end{pmatrix} = \\begin{pmatrix}\n",
    "4\\cdot4+1\\cdot1 & 4\\cdot5+1\\cdot(-2) & 4\\cdot2+1\\cdot3 \\\\\n",
    "5\\cdot4-2\\cdot1 & 5\\cdot5-2\\cdot(-2) & 5\\cdot2-2\\cdot3 \\\\\n",
    "2\\cdot4+3\\cdot1 & 2\\cdot5+3\\cdot(-2) & 2\\cdot2+3\\cdot3\n",
    "\\end{pmatrix} = \\begin{pmatrix}\n",
    "17 & 18 & 11 \\\\\n",
    "18 & 29 & 4 \\\\\n",
    "11 & 4 & 13\n",
    "\\end{pmatrix}\n",
    "$$$$A^TA = \\begin{pmatrix}\n",
    "4 & 5 & 2 \\\\ \n",
    "1 & -2 & 3\n",
    "\\end{pmatrix} \\cdot \\begin{pmatrix}\n",
    "4 & 1 \\\\ \n",
    "5 & -2 \\\\\n",
    "2 & 3 \n",
    "\\end{pmatrix} = \\begin{pmatrix}\n",
    "4\\cdot4+5\\cdot5+2\\cdot2 & 4\\cdot1+5\\cdot(-2)+2\\cdot3 \\\\\n",
    "1\\cdot4-2\\cdot5+3\\cdot2 & 1\\cdot1-2\\cdot(-2)+3\\cdot3\n",
    "\\end{pmatrix} = \\begin{pmatrix}\n",
    "45 & 0 \\\\\n",
    "0 & 14\n",
    "\\end{pmatrix}$$"
   ]
  },
  {
   "cell_type": "code",
   "execution_count": 8,
   "metadata": {},
   "outputs": [
    {
     "name": "stdout",
     "output_type": "stream",
     "text": [
      "A.T =\n",
      " [[ 4  5  2]\n",
      " [ 1 -2  3]]\n",
      "A*A.T =\n",
      " [[17 18 11]\n",
      " [18 29  4]\n",
      " [11  4 13]]\n",
      "A.T*A =\n",
      " [[45  0]\n",
      " [ 0 14]]\n"
     ]
    }
   ],
   "source": [
    "A = np.matrix([[4, 1], [5, -2], [2, 3]])\n",
    "\n",
    "print('A.T =\\n', A.T)\n",
    "print('A*A.T =\\n', np.dot(A, A.T))\n",
    "print('A.T*A =\\n', np.dot(A.T, A))"
   ]
  },
  {
   "cell_type": "markdown",
   "metadata": {},
   "source": [
    "##### 5.* Написать на Python функцию для перемножения двух произвольных матриц, не используя NumPy."
   ]
  },
  {
   "cell_type": "code",
   "execution_count": 13,
   "metadata": {},
   "outputs": [
    {
     "name": "stdout",
     "output_type": "stream",
     "text": [
      "Кол-во столбцов в первой матрице должно быть = кол-ву строк 2 матрицы\n",
      "Введите кол-во строк для первой матрицы >2\n",
      "Введите кол-во столюцов для 1 матрицы >3\n",
      "Введите кол-во строк для второй матрицы >2\n",
      "Введите кол-во столбцов для 2 матрицы >3\n",
      "Кол-во столбцов в первой матрице должно быть = кол-ву строк 2 матрицы\n",
      "Введите кол-во строк для первой матрицы >2\n",
      "Введите кол-во столюцов для 1 матрицы >3\n",
      "Введите кол-во строк для второй матрицы >3\n",
      "Введите кол-во столбцов для 2 матрицы >2\n",
      "[[2, 5, 8], [3, 1, 10]]\n",
      "[[3, 2], [4, 6], [6, 4]]\n",
      "[[74, 66], [73, 52]]\n"
     ]
    }
   ],
   "source": [
    "import random\n",
    " \n",
    "def matrixmult(m1, m2):\n",
    "    s=0     #сумма\n",
    "    t=[]    #временная матрица\n",
    "    m3=[]   # конечная матрица\n",
    "    if len(m2) != len(m1[0]):\n",
    "        print (\"Матрицы не могут быть перемножены\")        \n",
    "    else:\n",
    "        r1 = len(m1) #количество строк в первой матрице\n",
    "        c1 = len(m1[0]) #Количество столбцов в 1   \n",
    "        r2 = c1           #и строк во 2ой матрице\n",
    "        c2 = len(m2[0])  # количество столбцов во 2ой матрице\n",
    "        for z in range(0, r1):\n",
    "            for j in range(0, c2):\n",
    "                for i in range(0, c1):\n",
    "                   s = s + m1[z][i] * m2[i][j]\n",
    "                t.append(s)\n",
    "                s=0\n",
    "            m3.append(t)\n",
    "            t=[]           \n",
    "    return m3\n",
    " \n",
    "def creatematrix(r, c):\n",
    "    t=[]\n",
    "    m=[]\n",
    "    for i in range(0, r):\n",
    "        for j in range(0, c):\n",
    "            t.append(random.randint(1, 10))\n",
    "        m.append(t)\n",
    "        t=[]\n",
    "    return m\n",
    " \n",
    "c1 = 1\n",
    "r2 = 2\n",
    "while c1 != r2:\n",
    "    print(\"Кол-во столбцов в первой матрице должно быть = кол-ву строк 2 матрицы\")\n",
    "    r1 = int(input ('Введите кол-во строк для первой матрицы >'))\n",
    "    c1 = int(input ('Введите кол-во столюцов для 1 матрицы >'))\n",
    "    r2 = int(input ('Введите кол-во строк для второй матрицы >'))\n",
    "    c2 = int(input ('Введите кол-во столбцов для 2 матрицы >'))\n",
    "    \n",
    "m1 = creatematrix(r1, c1)\n",
    "m2 = creatematrix(r2, c2)\n",
    "    \n",
    "print(m1)\n",
    "print(m2)\n",
    " \n",
    "m3 = matrixmult(m1, m2)\n",
    "print(m3)"
   ]
  },
  {
   "cell_type": "markdown",
   "metadata": {},
   "source": [
    "### Матрицы и матричные операции. Часть 2"
   ]
  },
  {
   "cell_type": "markdown",
   "metadata": {},
   "source": [
    "##### 1. Вычислить определитель:\n",
    "   a)\n",
    "\n",
    "$$\\begin{vmatrix}\n",
    "sinx & -cosx\\\\ \n",
    "cosx & sinx\n",
    "\\end{vmatrix};$$\n",
    "\n",
    "   б)\n",
    "    \n",
    "$$\\begin{vmatrix}\n",
    "4 & 2 & 3\\\\ \n",
    "0 & 5 & 1\\\\ \n",
    "0 & 0 & 9\n",
    "\\end{vmatrix};$$\n",
    "    \n",
    "   в)\n",
    "\n",
    "$$\\begin{vmatrix}\n",
    "1 & 2 & 3\\\\ \n",
    "4 & 5 & 6\\\\ \n",
    "7 & 8 & 9\n",
    "\\end{vmatrix}.$$"
   ]
  },
  {
   "cell_type": "markdown",
   "metadata": {},
   "source": [
    "$\\begin{vmatrix}\n",
    "sinx & -cosx \\\\\n",
    "cosx & sinx\n",
    "\\end{vmatrix} = {sin}^2x + {cos}^2x = 1$\n",
    "\n",
    "$\\begin{vmatrix}\n",
    "4 & 2 & 3 \\\\\n",
    "0 & 5 & 1 \\\\\n",
    "0 & 0 & 9\n",
    "\\end{vmatrix} = 4\\begin{vmatrix}\n",
    "5 & 1 \\\\\n",
    "0 & 9\n",
    "\\end{vmatrix} - 0\\begin{vmatrix}\n",
    "2 & 3 \\\\\n",
    "0 & 9\n",
    "\\end{vmatrix} + 0\\begin{vmatrix}\n",
    "2 & 3 \\\\\n",
    "5 & 1\n",
    "\\end{vmatrix} = 4 \\cdot 45 = 180$\n",
    "\n",
    "$\\begin{vmatrix}\n",
    "1 & 2 & 3 \\\\\n",
    "4 & 5 & 6 \\\\\n",
    "7 & 8 & 9\n",
    "\\end{vmatrix} = 7\\begin{vmatrix}\n",
    "2 & 3 \\\\\n",
    "5 & 6\n",
    "\\end{vmatrix} - 8\\begin{vmatrix}\n",
    "1 & 3 \\\\\n",
    "4 & 6\n",
    "\\end{vmatrix} + 9\\begin{vmatrix}\n",
    "1 & 2 \\\\\n",
    "4 & 5\n",
    "\\end{vmatrix} = 7 \\cdot (12 - 15) - 8 \\cdot (6 - 12) + 9 \\cdot (5 - 8) = -21 + 48 - 27 = 0$"
   ]
  },
  {
   "cell_type": "code",
   "execution_count": 14,
   "metadata": {},
   "outputs": [
    {
     "name": "stdout",
     "output_type": "stream",
     "text": [
      "det(A) = 180\n",
      "det(B) = 0\n"
     ]
    }
   ],
   "source": [
    "A = [[4, 2, 3], [0, 5, 1], [0, 0, 9]]\n",
    "B = [[1, 2, 3], [4, 5, 6], [7, 8, 9]]\n",
    "\n",
    "print(f'det(A) = {np.linalg.det(A):.0f}')\n",
    "print(f'det(B) = {np.linalg.det(B):.0f}')"
   ]
  },
  {
   "cell_type": "markdown",
   "metadata": {},
   "source": [
    "##### 2.  Определитель матрицы $A$ равен $4$. Найти:  а) $det(A^{2})$;  б) $det(A^{T})$; в) $det(2A)$."
   ]
  },
  {
   "cell_type": "markdown",
   "metadata": {},
   "source": [
    "a) 16 б) 4 в) $4\\cdot2^{n}$"
   ]
  },
  {
   "cell_type": "code",
   "execution_count": 21,
   "metadata": {},
   "outputs": [
    {
     "name": "stdout",
     "output_type": "stream",
     "text": [
      "det(A) = 4\n",
      "det(A*A) = 16\n",
      "det(A.T) = 4\n",
      "det(2*A) = 32\n"
     ]
    }
   ],
   "source": [
    "A = np.matrix([[2, 3, 4], [0, 2, 3], [0, 0, 1]])\n",
    "\n",
    "print(f'det(A) = {np.linalg.det(A):.0f}')\n",
    "print(f'det(A*A) = {np.linalg.det(np.dot(A, A)):.0f}')\n",
    "print(f'det(A.T) = {np.linalg.det(A.T):.0f}')\n",
    "print(f'det(2*A) = {np.linalg.det(2*A):.0f}')"
   ]
  },
  {
   "cell_type": "markdown",
   "metadata": {},
   "source": [
    "##### 3. Доказать, что матрица\n",
    "$$\\begin{pmatrix}\n",
    "-2 & 7 & -3\\\\ \n",
    "4 & -14 & 6\\\\ \n",
    "-3 & 7 & 13\n",
    "\\end{pmatrix}$$   \n",
    "вырожденная."
   ]
  },
  {
   "cell_type": "markdown",
   "metadata": {},
   "source": [
    "$$\\begin{pmatrix}\n",
    "-2 & 7 & -3 \\\\\n",
    "4 & -14 & 6 \\\\\n",
    "-3 & 7 & 13\n",
    "\\end{pmatrix} = 7\\begin{pmatrix}\n",
    "4 & 6 \\\\\n",
    "-3 & 13\n",
    "\\end{pmatrix} + 14\\begin{pmatrix}\n",
    "-2 & -3 \\\\\n",
    "-3 & 13\n",
    "\\end{pmatrix} + 7\\begin{pmatrix}\n",
    "-2 & -3 \\\\\n",
    "4 & 6\n",
    "\\end{pmatrix} = 7 \\cdot (52+18) + 14 \\cdot (-26-9) + 7 \\cdot (-12+12) = 490 - 490 = 0$$"
   ]
  },
  {
   "cell_type": "code",
   "execution_count": 22,
   "metadata": {},
   "outputs": [
    {
     "name": "stdout",
     "output_type": "stream",
     "text": [
      "det(A) = 0\n"
     ]
    }
   ],
   "source": [
    "A = [[-2, 7, -3], [4, -14, 6], [-3, 7, 13]]\n",
    "\n",
    "print(f'det(A) = {np.linalg.det(A):.0f}')"
   ]
  },
  {
   "cell_type": "markdown",
   "metadata": {},
   "source": [
    "##### 4. Найти ранг матрицы:\n",
    "\n",
    "   а) $\\begin{pmatrix}\n",
    "1 & 2 & 3\\\\ \n",
    "1 & 1 & 1\\\\ \n",
    "2 & 3 & 4\n",
    "\\end{pmatrix};$\n",
    "\n",
    "   б) $\\begin{pmatrix}\n",
    "0 & 0 & 2 & 1\\\\ \n",
    "0 & 0 & 2 & 2\\\\ \n",
    "0 & 0 & 4 & 3\\\\ \n",
    "2 & 3 & 5 & 6\n",
    "\\end{pmatrix}.$"
   ]
  },
  {
   "cell_type": "markdown",
   "metadata": {},
   "source": [
    "a) $\\begin{pmatrix}\n",
    "1 & 2 & 3 \\\\\n",
    "1 & 1 & 1 \\\\\n",
    "2 & 3 & 4\n",
    "\\end{pmatrix} \\Rightarrow \\begin{pmatrix}\n",
    "1 & 2 & 3 \\\\\n",
    "1 & 1 & 1\n",
    "\\end{pmatrix} \\Rightarrow \\begin{pmatrix}\n",
    "0 & 1 & 2 \\\\\n",
    "1 & 1 & 1\n",
    "\\end{pmatrix} \\Rightarrow rank = 2$"
   ]
  },
  {
   "cell_type": "markdown",
   "metadata": {},
   "source": [
    "$\\begin{pmatrix}\n",
    "0 & 0 & 2 & 1 \\\\\n",
    "0 & 0 & 2 & 2 \\\\\n",
    "0 & 0 & 4 & 3 \\\\\n",
    "2 & 3 & 5 & 6\n",
    "\\end{pmatrix} \\Rightarrow \\begin{pmatrix}\n",
    "0 & 0 & 2 & 1 \\\\\n",
    "0 & 0 & 2 & 2 \\\\\n",
    "2 & 3 & 5 & 6\n",
    "\\end{pmatrix} \\Rightarrow \\begin{pmatrix}\n",
    "0 & 0 & 0 & -1 \\\\\n",
    "0 & 0 & 2 & 2 \\\\\n",
    "2 & 3 & 5 & 6\n",
    "\\end{pmatrix} \\Rightarrow rank = 3$"
   ]
  },
  {
   "cell_type": "code",
   "execution_count": 23,
   "metadata": {},
   "outputs": [
    {
     "name": "stdout",
     "output_type": "stream",
     "text": [
      "Ранг матрицы A: 2\n",
      "Ранг матрицы B: 3\n"
     ]
    }
   ],
   "source": [
    "A = [[1, 2, 3], [1, 1, 1], [2, 3, 4]]\n",
    "B = [[0, 0, 2, 1], [0, 0, 2, 2], [0, 0, 4, 3], [2, 3, 5, 6]]\n",
    "\n",
    "print(f'Ранг матрицы A: {np.linalg.matrix_rank(A)}')\n",
    "print(f'Ранг матрицы B: {np.linalg.matrix_rank(B)}')"
   ]
  }
 ],
 "metadata": {
  "kernelspec": {
   "display_name": "Python 3",
   "language": "python",
   "name": "python3"
  },
  "language_info": {
   "codemirror_mode": {
    "name": "ipython",
    "version": 3
   },
   "file_extension": ".py",
   "mimetype": "text/x-python",
   "name": "python",
   "nbconvert_exporter": "python",
   "pygments_lexer": "ipython3",
   "version": "3.7.4"
  }
 },
 "nbformat": 4,
 "nbformat_minor": 2
}
